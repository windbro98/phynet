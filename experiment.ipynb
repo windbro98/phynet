{
 "cells": [
  {
   "cell_type": "code",
   "execution_count": 5,
   "metadata": {},
   "outputs": [],
   "source": [
    "import torch\n",
    "import matplotlib.pyplot as plt\n",
    "import numpy"
   ]
  },
  {
   "cell_type": "code",
   "execution_count": 2,
   "metadata": {},
   "outputs": [
    {
     "ename": "ImportError",
     "evalue": "cannot import name 'propcomplex' from 'prop' (/ailab/user/chenzhaoqing/.conda/envs/palette/lib/python3.9/site-packages/prop/__init__.py)",
     "output_type": "error",
     "traceback": [
      "\u001b[0;31m---------------------------------------------------------------------------\u001b[0m",
      "\u001b[0;31mImportError\u001b[0m                               Traceback (most recent call last)",
      "Cell \u001b[0;32mIn[2], line 2\u001b[0m\n\u001b[1;32m      1\u001b[0m \u001b[38;5;28;01mimport\u001b[39;00m \u001b[38;5;21;01mprop\u001b[39;00m\n\u001b[0;32m----> 2\u001b[0m \u001b[38;5;28;01mfrom\u001b[39;00m \u001b[38;5;21;01mprop\u001b[39;00m \u001b[38;5;28;01mimport\u001b[39;00m propcomplex\n",
      "\u001b[0;31mImportError\u001b[0m: cannot import name 'propcomplex' from 'prop' (/ailab/user/chenzhaoqing/.conda/envs/palette/lib/python3.9/site-packages/prop/__init__.py)"
     ]
    }
   ],
   "source": [
    "import prop\n",
    "from prop import propcomplex"
   ]
  },
  {
   "cell_type": "code",
   "execution_count": 1,
   "metadata": {},
   "outputs": [
    {
     "name": "stdout",
     "output_type": "stream",
     "text": [
      "Traceback (most recent call last):\n",
      "  File \"/ailab/user/chenzhaoqing/phynet/train_EncoderDecoder_UNET_real.py\", line 11, in <module>\n",
      "    from utils.generate_mcf_simulate import get_speckle2\n",
      "  File \"/ailab/user/chenzhaoqing/phynet/utils/generate_mcf_simulate.py\", line 14, in <module>\n",
      "    from prop import propcomplex\n",
      "ImportError: cannot import name 'propcomplex' from 'prop' (/ailab/user/chenzhaoqing/.conda/envs/palette/lib/python3.9/site-packages/prop/__init__.py)\n"
     ]
    }
   ],
   "source": [
    "!python train_EncoderDecoder_UNET_real.py"
   ]
  }
 ],
 "metadata": {
  "kernelspec": {
   "display_name": "palette",
   "language": "python",
   "name": "python3"
  },
  "language_info": {
   "codemirror_mode": {
    "name": "ipython",
    "version": 3
   },
   "file_extension": ".py",
   "mimetype": "text/x-python",
   "name": "python",
   "nbconvert_exporter": "python",
   "pygments_lexer": "ipython3",
   "version": "3.9.19"
  }
 },
 "nbformat": 4,
 "nbformat_minor": 2
}
