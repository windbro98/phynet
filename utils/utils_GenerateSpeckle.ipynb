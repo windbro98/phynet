{
 "cells": [
  {
   "cell_type": "code",
   "execution_count": 3,
   "metadata": {},
   "outputs": [
    {
     "ename": "SyntaxError",
     "evalue": "incomplete input (195076859.py, line 32)",
     "output_type": "error",
     "traceback": [
      "\u001b[0;36m  Cell \u001b[0;32mIn[3], line 32\u001b[0;36m\u001b[0m\n\u001b[0;31m    #     # fast 恢复0-pi\u001b[0m\n\u001b[0m                       ^\u001b[0m\n\u001b[0;31mSyntaxError\u001b[0m\u001b[0;31m:\u001b[0m incomplete input\n"
     ]
    }
   ],
   "source": [
    "import sys \n",
    "sys.path.append(\"/mnt/data/optimal/tangyuhang/workspace/iopen/ai4optical/phynet_git/phynet\")\n",
    "\n",
    "import os\n",
    "from os.path import join, getsize\n",
    "import scipy.io as scio\n",
    "import numpy as np\n",
    "from library import prop\n",
    "import matplotlib.pyplot as plt\n",
    "import time\n",
    "\n",
    "\n",
    "for dirs in os.listdir('/mnt/data/optimal/tangyuhang/workspace/iopen/ai4optical/phynet_git/traindata/raw_txt'):\n",
    "    \n",
    "    # print(f'in {root}')\n",
    "    \n",
    "    # for file in (files):\n",
    "    #     pha = np.loadtxt(join(root,file),dtype=np.float32,delimiter=',')\n",
    "        \n",
    "    #     plt.imshow(pha,cmap='viridis')\n",
    "    #     plt.colorbar()\n",
    "        \n",
    "    #     # time.sleep(5)\n",
    "        \n",
    "    #     # print(pha.dtype,pha.shape,pha.max(),pha.min(),pha.sum())\n",
    "        \n",
    "    #     # amp = prop(pha,dist=0.01)\n",
    "        \n",
    "        \n",
    "    #     plt.show()\n",
    "\n",
    "    #     # fast 恢复0-pi\n"
   ]
  },
  {
   "cell_type": "code",
   "execution_count": null,
   "metadata": {},
   "outputs": [],
   "source": []
  },
  {
   "cell_type": "code",
   "execution_count": null,
   "metadata": {},
   "outputs": [],
   "source": [
    "            \n",
    "    \n",
    "\n",
    "    "
   ]
  }
 ],
 "metadata": {
  "kernelspec": {
   "display_name": "Python 3",
   "language": "python",
   "name": "python3"
  },
  "language_info": {
   "codemirror_mode": {
    "name": "ipython",
    "version": 3
   },
   "file_extension": ".py",
   "mimetype": "text/x-python",
   "name": "python",
   "nbconvert_exporter": "python",
   "pygments_lexer": "ipython3",
   "version": "3.10.10"
  }
 },
 "nbformat": 4,
 "nbformat_minor": 2
}
